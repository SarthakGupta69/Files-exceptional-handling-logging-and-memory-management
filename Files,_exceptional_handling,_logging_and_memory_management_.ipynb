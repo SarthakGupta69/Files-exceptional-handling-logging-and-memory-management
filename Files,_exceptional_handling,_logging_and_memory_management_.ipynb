{
  "nbformat": 4,
  "nbformat_minor": 0,
  "metadata": {
    "colab": {
      "provenance": []
    },
    "kernelspec": {
      "name": "python3",
      "display_name": "Python 3"
    },
    "language_info": {
      "name": "python"
    }
  },
  "cells": [
    {
      "cell_type": "markdown",
      "source": [
        "## Assignment Questions"
      ],
      "metadata": {
        "id": "zMAoCO80biUs"
      }
    },
    {
      "cell_type": "markdown",
      "source": [
        "Q1. What is the difference between interpreted and compiled languages?\n",
        "- Answer The key difference between interpreted and compiled languages lies in how the code is executed.\n",
        "\n",
        "Compiled Languages:\n",
        "\n",
        "In compiled languages, the source code is translated into machine code (or binary code) all at once, before it is executed.\n",
        "This translation is done by a compiler.\n",
        "The machine code is specific to the computer's architecture, so the compiled program runs directly on the hardware.\n",
        "Examples: C, C++, Rust, Go.\n",
        "Pros:\n",
        "Faster execution since the code is already translated into machine code.\n",
        "More control over system resources.\n",
        "Cons:\n",
        "Compilation step can be time-consuming.\n",
        "Can be harder to debug as you need to compile after each change.\n",
        "Interpreted Languages:\n",
        "\n",
        "In interpreted languages, the source code is executed line by line by an interpreter.\n",
        "The interpreter translates the code into machine code at runtime (during execution), which is why the code doesn't need to be compiled beforehand.\n",
        "Examples: Python, JavaScript, Ruby, PHP.\n",
        "Pros:\n",
        "Easier to debug since you can test and modify the code quickly.\n",
        "No need for a separate compilation step.\n",
        "Cons:\n",
        "Slower execution since translation happens during execution.\n",
        "Requires the interpreter to be installed on the machine."
      ],
      "metadata": {
        "id": "XT1SRqe4bqhn"
      }
    },
    {
      "cell_type": "markdown",
      "source": [
        "Q2. What is exception handling in Python?\n",
        "- Answer Exception handling in Python refers to the process of responding to runtime errors or exceptional conditions that may occur during the execution of a program. It allows the program to handle errors gracefully, without crashing, and can provide useful feedback to the user or log files for debugging."
      ],
      "metadata": {
        "id": "213Rj2WFb8Z6"
      }
    },
    {
      "cell_type": "markdown",
      "source": [
        "Q3.  What is the purpose of the finally block in exception handling?\n",
        "- Answer The purpose of the finally block in exception handling is to ensure that certain code is executed no matter what, regardless of whether an exception was raised or not in the try block. It provides a way to perform clean-up actions, such as closing files, releasing resources, or other necessary operations that should happen even if an error occurs or not."
      ],
      "metadata": {
        "id": "xIJYO4JccIAN"
      }
    },
    {
      "cell_type": "markdown",
      "source": [
        "Q4. What is logging in Python?\n",
        "- Answer Logging in Python is the process of recording messages or events that occur during the execution of a program. It allows developers to track and monitor the behavior of a program, identify errors, and gain insights into the flow of the application. Unlike using print statements, logging provides a more structured and flexible way to handle messages, which can be essential for debugging and production-level monitoring."
      ],
      "metadata": {
        "id": "4IqCgusPcWNS"
      }
    },
    {
      "cell_type": "markdown",
      "source": [
        "Q5. What is the significance of the __del__ method in Python?\n",
        "- Answer The __del__ method in Python is a special method, also known as a destructor, that is called when an object is about to be destroyed or garbage-collected. It allows you to define custom cleanup actions before an object is removed from memory. This can be useful for releasing resources like files, network connections, or database connections that the object might be holding."
      ],
      "metadata": {
        "id": "v9dZ6G3jceVZ"
      }
    },
    {
      "cell_type": "markdown",
      "source": [
        "Q6.  What is the difference between import and from ... import in Python?\n",
        "- Answer In Python, both import and from ... import are used to bring modules or specific components from modules into your code, but they work in slightly different ways. Here's a breakdown of the difference between the two:\n",
        "\n",
        "1. import Statement:\n",
        "The import statement is used to import an entire module into the current namespace.\n",
        "After importing a module, you need to use the module name to access its functions, classes, or variables.\n",
        "2. from ... import Statement:\n",
        "The from ... import statement is used to import specific attributes (e.g., functions, classes, or variables) directly from a module into the current namespace.\n",
        "You don't need to use the module name to access the imported attributes."
      ],
      "metadata": {
        "id": "iiJArq_vc3z1"
      }
    },
    {
      "cell_type": "markdown",
      "source": [
        "Q7. How can you handle multiple exceptions in Python?\n",
        "- Answer In Python, you can handle multiple exceptions in a variety of ways using try-except blocks. There are several approaches to handling multiple exceptions, depending on the specific behavior you need. Here's a breakdown of different methods for handling multiple exceptions:\n",
        "1. Handling Multiple Exceptions in One except Block:\n",
        "You can handle multiple exceptions in a single except block by specifying them as a tuple. This allows you to catch any one of the specified exceptions and handle them in the same way.\n",
        "2. Handling Multiple Exceptions with Different except Blocks:\n",
        "You can handle different exceptions separately with multiple except blocks. This allows you to respond differently to each exception type."
      ],
      "metadata": {
        "id": "1V4RHr5kdZE_"
      }
    },
    {
      "cell_type": "markdown",
      "source": [
        "Q8. What is the purpose of the with statement when handling files in Python?\n",
        "- Answer The with statement in Python is used for resource management, particularly when dealing with files, to ensure that resources are properly managed and cleaned up after use. When handling files, the with statement simplifies the process of opening, using, and closing files, helping avoid issues like memory leaks or leaving files open unintentionally."
      ],
      "metadata": {
        "id": "6Pwx5Nwedm5Q"
      }
    },
    {
      "cell_type": "markdown",
      "source": [
        "Q9. What is the difference between multithreading and multiprocessing?\n",
        "- Answer Multithreading and multiprocessing are both techniques used to achieve concurrent execution of tasks, but they differ in how they handle multiple tasks and the resources they utilize. Here's a breakdown of the differences between the two:\n",
        "\n",
        "1. Multithreading:\n",
        "Definition: Multithreading refers to the ability of a CPU to execute multiple threads concurrently within a single process. Each thread in a program runs a part of the task, sharing the same memory space.\n",
        "Threads: Threads are smaller units of a process. They share the same memory space and resources, making communication between them faster but also prone to issues like race conditions (where two threads try to access shared data simultaneously).\n",
        "Ideal for I/O-bound Tasks: Multithreading is useful when your program has multiple tasks that are I/O-bound, meaning tasks that spend time waiting for input/output operations (like reading from a file, network requests, or database queries).\n",
        "Memory: Threads share memory space, so memory usage is typically lower compared to multiprocessing.\n",
        "GIL (Global Interpreter Lock): In CPython (the standard Python implementation), the Global Interpreter Lock (GIL) allows only one thread to execute Python bytecode at a time, meaning that Python threads can't fully utilize multiple CPU cores for CPU-bound tasks. However, threads can still be useful for I/O-bound tasks as they can be paused while waiting for I/O operations to complete.\n",
        "2. Multiprocessing:\n",
        "Definition: Multiprocessing refers to the ability of a system to run multiple processes in parallel, with each process having its own memory space. Each process can run on a different CPU core, enabling true parallel execution.\n",
        "Processes: A process is a self-contained unit with its own memory space and resources, unlike threads, which share the same memory space. This isolation makes multiprocessing safer in terms of avoiding issues like race conditions.\n",
        "Ideal for CPU-bound Tasks: Multiprocessing is ideal for CPU-bound tasks, where you want to take advantage of multiple CPU cores to perform intensive computations concurrently. Since each process runs in its own memory space, there is no GIL to restrict parallelism in CPU-bound operations.\n",
        "Memory: Each process has its own memory space, so memory usage tends to be higher compared to multithreading. Inter-process communication (IPC) is required when processes need to communicate, which can be more complicated and slower than thread-based communication."
      ],
      "metadata": {
        "id": "HRLI2LgwdvRX"
      }
    },
    {
      "cell_type": "markdown",
      "source": [
        "Q10.What are the advantages of using logging in a program?\n",
        "- Answer Using logging in a program provides several key advantages, especially when you need to monitor, debug, and maintain complex applications. Unlike simple print statements, the logging module in Python offers a robust way to track and record events, making your code more professional, maintainable, and easier to debug.\n",
        "Here are the key advantages of using logging in a program:\n",
        "\n",
        "1. Improved Debugging and Troubleshooting:\n",
        "Capturing Important Information: Logging allows you to capture critical information about the program's execution. This includes function calls, variable values, error messages, warnings, and more. This data is crucial for diagnosing issues when something goes wrong.\n",
        "Level-based Logging: You can set different levels of logging (e.g., DEBUG, INFO, WARNING, ERROR, CRITICAL), which helps you control the amount and severity of information logged. This is particularly useful for filtering log messages based on the environment (e.g., more detailed logs for development, fewer logs for production).\n",
        "2. Separation of Concerns:\n",
        "Avoid Cluttering Code with Print Statements: With logging, you can remove print statements used for debugging purposes in production code, leading to cleaner code. You can replace all print statements with appropriate logging calls (logging.debug(), logging.info(), etc.).\n",
        "Centralized Logging: Logging can be centralized, meaning you don't have to worry about where and how to output information. It can be directed to various outputs, such as the console, log files, or even remote servers, without cluttering your program logic.\n",
        "3. Persistent Records:\n",
        "Logging to Files: Logs can be saved to files, which allows you to maintain a persistent record of what happened during the execution of the program. This is important for post-mortem analysis, especially in production systems where you may need to review what occurred hours or days ago.\n",
        "Log Rotation: The logging module provides the ability to rotate log files when they grow too large, ensuring that logs do not consume too much disk space and that older logs can be archived.\n",
        "4. Flexible Configuration:\n",
        "Different Output Locations: You can configure logging to output to multiple destinations simultaneously, such as both the console and a log file. This can help you keep real-time logs visible during development and store them for later analysis in production.\n",
        "Custom Logging Handlers: You can use logging handlers to send logs to different destinations (e.g., sending logs to a remote server, email, or a database). This flexibility makes it easier to integrate logging into various systems or frameworks.\n",
        "5. Handling Different Log Levels:\n",
        "Granular Control: Logging provides different levels of severity (e.g., DEBUG, INFO, WARNING, ERROR, CRITICAL). This allows you to log everything at a detailed level (e.g., for debugging) in development but reduce the verbosity for production environments by adjusting the log level (e.g., only ERROR and CRITICAL messages in production).\n",
        "Selective Logging: You can easily control what information gets logged based on the environment and severity. For example, you might only want detailed logs in development and only errors and warnings in production.\n",
        "6. Better Performance:\n",
        "Non-Blocking: Logging can be configured to be asynchronous (using handlers like QueueHandler), meaning that it won't block the main program execution while writing logs. This can help prevent performance degradation during high-load operations.\n",
        "Avoiding Print Statement Overhead: When using print statements for debugging, the program can experience performance degradation, especially in large loops or frequent calls. Logging, on the other hand, can be configured to log only when needed, minimizing the overhead.\n",
        "7. Improved Maintenance and Monitoring:\n",
        "Monitoring and Alerting: By logging critical events, you can set up monitoring systems that track the log files. This helps you to be alerted to potential issues, such as when an error occurs or a warning is raised. For example, in a production environment, you can set up a monitoring system to alert the development team via email or SMS if there are issues.\n",
        "Detailed Audit Trails: For security and regulatory purposes, maintaining a detailed log of system events (e.g., login attempts, access to sensitive data) can be required. Logging helps create an audit trail that can be used for compliance, debugging, and investigating issues.\n",
        "8. Easier Collaboration:\n",
        "Collaboration and Debugging in Teams: With structured and detailed logs, different members of a development or operations team can debug and troubleshoot issues even when they are not directly involved in the code. Log files can be shared and reviewed to understand what happened, especially when dealing with complex issues.\n",
        "Better Communication: In teams, having logs allows developers to communicate better with operations or system administrators. Logs serve as a clear and standardized way to describe system behavior and failures.\n",
        "9. Support for Third-Party Libraries:\n",
        "Many third-party libraries and frameworks use logging internally. By using the logging module, you ensure that logs from external libraries are captured and managed consistently alongside your own application logs.\n",
        "You can control the verbosity and output of external libraries, which can help you avoid excessive logging or unexpected log messages when integrating third-party tools.\n",
        "10. Structured Logging:\n",
        "Better Analysis: Structured logging can capture logs in a format that is easy to parse (e.g., JSON), making it easier to search, analyze, and aggregate logs, especially when dealing with distributed systems or microservices.\n",
        "Integration with Logging Systems: Structured logs can be sent to centralized logging systems such as ELK (Elasticsearch, Logstash, Kibana), Splunk, or Graylog for further analysis, visualizations, and monitoring."
      ],
      "metadata": {
        "id": "nYXPllZDeE5Z"
      }
    },
    {
      "cell_type": "markdown",
      "source": [
        "Q11. What is memory management in Python?\n",
        "- Answer Memory management in Python is a critical part of the Python runtime that ensures efficient use of memory resources during program execution. Python provides automatic memory management using a combination of reference counting and a garbage collection mechanism to manage memory allocation, deallocation, and object lifecycle. Here’s a breakdown of how memory management works in Python:\n",
        "\n",
        "1. Automatic Memory Management:\n",
        "Python manages memory automatically, meaning the programmer doesn’t need to manually allocate or free memory for objects. The Python interpreter handles this process behind the scenes.\n",
        "\n",
        "2. Reference Counting:\n",
        "Each object in Python is associated with a reference count, which tracks how many references are pointing to the object in memory. When the reference count of an object drops to zero (i.e., no part of the program is using that object), Python can automatically deallocate the memory used by the object."
      ],
      "metadata": {
        "id": "TU4syWpledQF"
      }
    },
    {
      "cell_type": "markdown",
      "source": [
        "Q12. What are the basic steps involved in exception handling in Python?\n",
        "- Answer In Python, exception handling is a way to manage errors or unexpected conditions that occur during the execution of a program. The basic steps involved in exception handling in Python are as follows:\n",
        "\n",
        "1. Try Block:\n",
        "The try block is where you write the code that may potentially raise an exception. This is the part of the code that you want to monitor for errors.\n",
        "If an error occurs inside the try block, Python will jump to the corresponding except block.\n",
        "2. Except Block:\n",
        "The except block is where you handle the exception raised in the try block. You can specify the type of exception you want to catch (e.g., ZeroDivisionError, FileNotFoundError, etc.) or catch all exceptions using a general except statement.\n",
        "The except block prevents the program from crashing by allowing you to handle the error gracefully.\n",
        "3. Else Block (Optional):\n",
        "The else block, if present, runs only if no exception was raised in the try block. It's useful for code that should run when no exceptions occur.\n",
        "It's typically used to execute code that should only be run when the try block is successful (e.g., closing a file, processing data after a successful operation)."
      ],
      "metadata": {
        "id": "DII3T6DIen7N"
      }
    },
    {
      "cell_type": "markdown",
      "source": [
        "Q13. Why is memory management important in Python?\n",
        "- Answer Memory management is crucial in Python (or any programming language) for several reasons. Efficient memory management helps ensure that a program runs efficiently, avoids resource wastage, and performs well under various conditions, such as when handling large data sets or running on limited hardware resources. Here’s why memory management is important in Python:\n",
        "\n",
        "1. Efficient Resource Utilization:\n",
        "Memory Efficiency: Python programs need to use memory effectively to avoid consuming excessive resources, especially when running on systems with limited memory (e.g., mobile devices, embedded systems). Without proper memory management, a program may consume more memory than necessary, leading to slow performance or crashes.\n",
        "Avoiding Memory Leaks: Memory leaks occur when memory that is no longer needed is not freed, causing an application to consume an increasing amount of memory over time. This can degrade performance and, in extreme cases, cause the application to crash. Python’s garbage collector helps prevent memory leaks by automatically cleaning up unused objects, but developers still need to be mindful of how objects are managed.\n",
        "2. Automatic Garbage Collection:\n",
        "Python uses automatic memory management, which includes reference counting and garbage collection to clean up objects that are no longer needed. However, developers still need to understand how it works to avoid common pitfalls such as circular references, where two or more objects reference each other in a cycle, preventing them from being collected.\n",
        "Without garbage collection, developers would need to manually manage memory, which can lead to errors, memory leaks, and more complex code.\n",
        "3. Improved Performance:\n",
        "Proper memory management can significantly improve the performance of a Python program. When memory is allocated and freed efficiently, the system is able to execute tasks faster, reducing time spent on garbage collection or memory allocation.\n",
        "Memory pools and memory reuse (through Python’s memory manager, pymalloc) help minimize memory fragmentation and reduce the overhead of allocating new memory.\n",
        "4. Handling Large Data Sets:\n",
        "For applications that deal with large data sets (e.g., machine learning, data analysis, web scraping), effective memory management is essential. Inefficient memory handling can cause a program to slow down or crash when working with large volumes of data.\n",
        "Python’s memory management system uses techniques such as memory pooling and garbage collection to handle large objects and datasets more efficiently.\n",
        "5. Preventing System Crashes:\n",
        "If a program does not manage memory properly (for example, if it keeps allocating memory without freeing it), it can cause the system to run out of memory and crash. This is particularly critical in long-running applications like web servers, databases, and data processing pipelines.\n",
        "By using Python’s memory management features, such as garbage collection and reference counting, developers can ensure that memory is freed when it is no longer needed, reducing the risk of crashes.\n",
        "6. Memory Efficiency in Long-Running Programs:\n",
        "For long-running applications (e.g., web servers, daemons, or background processes), memory management is even more important. Without proper management, the application may slowly consume more memory over time (a phenomenon known as memory bloat), leading to slowdowns or crashes.\n",
        "Python’s garbage collection can help with this, but developers need to understand how to write code that avoids unnecessary memory usage.\n",
        "7. Optimizing for Multiple Object Lifetimes:\n",
        "Understanding memory management allows developers to optimize the creation and deletion of objects. For instance, objects that are no longer needed should be deleted or allowed to go out of scope, allowing the garbage collector to free up the memory.\n",
        "Object reuse (e.g., reusing memory from previous objects instead of creating new ones) can help reduce the overall memory footprint of a program.\n",
        "8. Prevention of Unnecessary Object Copies:\n",
        "In Python, mutable objects (e.g., lists, dictionaries, and sets) can be copied or referenced in ways that can cause unnecessary memory usage if not managed correctly.\n",
        "By understanding Python’s memory model and object references, developers can avoid creating unnecessary copies of objects, which can reduce memory consumption and improve performance.\n",
        "9. Managing External Resources (e.g., File Descriptors, Network Connections):\n",
        "While Python manages memory for its objects, external resources such as file handles, network connections, and database cursors must be explicitly managed. If these resources are not closed or released properly, they can lead to resource leaks.\n",
        "Using constructs like the with statement (context managers) or manually closing resources (like files and connections) ensures proper memory and resource management.\n",
        "10. Memory Profiling and Debugging:\n",
        "Python provides tools to profile memory usage (e.g., sys.getsizeof(), gc module, memory_profiler library) and detect memory issues in programs. These tools help developers identify and address memory inefficiencies, such as excessive memory consumption, memory leaks, or incorrect memory usage patterns.\n",
        "11. Optimization for Low-Memory Environments:\n",
        "In some cases, memory management is crucial for running Python on embedded devices, IoT (Internet of Things) devices, or environments with low memory. In such cases, developers may need to be more cautious with how memory is allocated, reused, and freed.\n",
        "12. Supporting Concurrent Programming:\n",
        "For programs using multithreading or multiprocessing, understanding memory management is important because it can help prevent issues like race conditions, where multiple threads or processes may try to access and modify the same data simultaneously. Proper synchronization and memory handling can avoid issues like data corruption and memory contention.\n"
      ],
      "metadata": {
        "id": "s87q7Q6Ae7F2"
      }
    },
    {
      "cell_type": "markdown",
      "source": [
        "Q14.  What is the role of try and except in exception handling?\n",
        "- Answer In exception handling in Python, the try and except blocks play a crucial role in managing errors or exceptions that might occur during the execution of a program. These blocks allow you to handle errors gracefully without terminating the program abruptly. Here's a breakdown of the role each block plays:\n",
        "\n",
        "1. The try Block:\n",
        "The try block is where you write the code that you suspect may raise an exception or error. It's the code that you want to monitor for potential problems during execution.\n",
        "If any exception occurs inside the try block, the remaining code in the try block is skipped, and Python looks for a corresponding except block to handle the exception.\n",
        "2. The except Block:\n",
        "The except block is where you handle the exception raised in the try block. It allows you to specify what to do when a certain type of exception is raised, such as printing an error message, retrying the operation, or logging the error.\n",
        "The except block catches exceptions (errors) and lets the program recover from them instead of crashing.\n",
        "3. How try and except Work Together:\n",
        "When Python executes a program, it starts executing the code inside the try block. If no error occurs, the code continues normally.\n",
        "If an error or exception occurs during the execution of the try block, Python immediately stops executing the remaining code in the try block and jumps to the appropriate except block.\n",
        "The except block then handles the exception, preventing the program from crashing and allowing you to take corrective actions, such as logging the error or informing the user."
      ],
      "metadata": {
        "id": "_zUFBuU8fNjI"
      }
    },
    {
      "cell_type": "markdown",
      "source": [
        "Q15.  How does Python's garbage collection system work?\n",
        "- Answer Python's garbage collection system is responsible for automatically managing memory by cleaning up unused objects and ensuring that the program does not run out of memory. This is an essential aspect of Python's memory management, ensuring that objects that are no longer needed are removed and their memory is reclaimed.\n"
      ],
      "metadata": {
        "id": "YD6I7d-zfsks"
      }
    },
    {
      "cell_type": "markdown",
      "source": [
        "Q16. What is the purpose of the else block in exception handling?\n",
        "- Answer The else block in exception handling in Python is an optional part of the try-except-else structure. Its primary purpose is to execute code only when no exception occurs in the try block. It allows you to separate the logic for successful execution from the exception handling logic, making your code cleaner and easier to understand.\n",
        "\n",
        "Purpose of the else Block:\n",
        "Code execution when no exception occurs:\n",
        "\n",
        "The else block is executed if no exception is raised in the try block. This helps in writing code that should run only when the try block has successfully executed without errors.\n",
        "It's useful for the code that needs to be executed when the try block works as expected, ensuring that the exception-handling code is clearly separated from the rest of the program.\n",
        "Improved readability and structure:\n",
        "\n",
        "By using the else block, you can clearly indicate which parts of the program are responsible for handling errors and which parts are the \"normal\" execution flow.\n",
        "This makes your code more structured and enhances readability by keeping the \"happy path\" (successful execution) separate from error handling.\n",
        "Avoid unnecessary exception handling:\n",
        "\n",
        "Code in the else block will only run if no exception occurs in the try block. This helps prevent unnecessary error handling logic from being mixed with normal program flow"
      ],
      "metadata": {
        "id": "pX-dNccYf2Rg"
      }
    },
    {
      "cell_type": "markdown",
      "source": [
        "Q17. What are the common logging levels in Python?\n",
        "- Answer In Python, the logging module provides a set of predefined logging levels that indicate the severity of events being logged. These logging levels help developers categorize log messages based on their importance, making it easier to filter and control the output. The common logging levels in Python (in order of severity) are:\n",
        "\n",
        "1. DEBUG:\n",
        "Level 10: The lowest logging level.\n",
        "Used for detailed information, typically useful only for diagnosing problems.\n",
        "It is the most granular level, and you would use it when you want to track the internal state of your application for debugging purposes.\n",
        "Typically turned off in production environments.\n",
        "2. INFO:\n",
        "Level 20: Used to log general information about the application’s flow.\n",
        "This level is typically used to confirm that things are working as expected.\n",
        "For example, logging when a task starts or finishes, or when significant milestones in the program are reached.\n",
        "3. WARNING:\n",
        "Level 30: Used to log potentially problematic situations or events that are not errors but could lead to issues in the future.\n",
        "A warning indicates something that is not necessarily a problem, but it’s worth noting for later review.\n",
        "This is often used to log minor issues, deprecated features, or situations that might require attention but do not stop the program from functioning.\n",
        "4. ERROR:\n",
        "Level 40: Used to log more serious issues that indicate a problem has occurred in the application.\n",
        "This level is used when an error prevents the program from performing a task, but the program can still continue running.\n",
        "It is typically used when an exception is caught or a task fails.\n",
        "5. CRITICAL:\n",
        "Level 50: The highest logging level, indicating a very severe situation that typically causes the application to stop.\n",
        "This level is used for critical errors that cause the program to fail or become unstable.\n",
        "If you encounter this level, you likely need to shut down or take immediate action to fix the issue."
      ],
      "metadata": {
        "id": "Y4NWNblvgDsv"
      }
    },
    {
      "cell_type": "markdown",
      "source": [
        "Q18. What is the difference between os.fork() and multiprocessing in Python?\n",
        "- AnswerIn Python, both os.fork() and the multiprocessing module are used for creating parallel processes, but they differ significantly in their functionality, use cases, and underlying mechanisms. Here's a breakdown of the differences between os.fork() and multiprocessing in Python:\n",
        "\n",
        "1. os.fork():\n",
        "Low-level system call: os.fork() is a system call in Python (available on Unix-like operating systems such as Linux and macOS) that directly creates a new child process by duplicating the calling process. The child process receives a copy of the parent process's memory, file descriptors, and execution state.\n",
        "Forking behavior: The new child process is an exact copy of the parent process except for the return value of os.fork(). The os.fork() function returns:\n",
        "0 in the child process.\n",
        "The PID (process ID) of the child process in the parent process.\n",
        "Platform limitation: os.fork() is available only on Unix-based operating systems. It does not work on Windows.\n",
        "Manual process management: With os.fork(), you need to manually handle inter-process communication (IPC), synchronization, and resource management.\n",
        "Shared memory: After the fork, the child process gets its own copy of the memory (copy-on-write), but it doesn't share memory space with the parent. Any changes to variables or memory in the parent won't affect the child, and vice versa.\n",
        "2. multiprocessing module:\n",
        "High-level abstraction: The multiprocessing module provides a higher-level API for creating and managing processes. It abstracts away many of the complexities of using os.fork() directly and adds more powerful features for parallel programming.\n",
        "Cross-platform: The multiprocessing module works on both Unix-based operating systems and Windows, unlike os.fork(), which is limited to Unix.\n",
        "Separate memory space: Each process created by multiprocessing runs in its own memory space, just like with os.fork(). However, multiprocessing offers facilities for sharing data between processes (e.g., Queue, Pipe, Value, and Array) or using shared memory with Manager objects.\n",
        "Automatic process management: The multiprocessing module handles process management, including the creation and termination of processes. It also allows the use of pools of worker processes for parallel execution of tasks, providing a simple interface for concurrency.\n",
        "Communication between processes: It simplifies inter-process communication (IPC) through shared memory, Queue, Pipe, and other synchronization tools.\n",
        "Worker Pool: The multiprocessing module offers a Pool class that can distribute tasks among multiple worker processes, making it easier to parallelize the execution of a function across multiple CPU cores."
      ],
      "metadata": {
        "id": "CUNaWkH_ggm6"
      }
    },
    {
      "cell_type": "markdown",
      "source": [
        "Q19. What is the importance of closing a file in Python?\n",
        "- Answer In Python, closing a file is important for several reasons, mainly related to resource management, data integrity, and preventing memory leaks. When you open a file using the open() function, it consumes system resources like memory and file handles. If the file is not properly closed, these resources may not be released, which can lead to problems such as running out of file handles or having incomplete data written to the file.\n",
        "\n",
        "Here’s why closing a file is important:\n",
        "\n",
        "1. Releasing System Resources:\n",
        "When a file is opened in Python, the operating system allocates system resources such as file handles (or file descriptors) for reading and writing.\n",
        "If you don’t close a file after finishing operations on it, the file handle remains open, and the operating system cannot reuse it for other files.\n",
        "File handles are a limited resource. On systems that open many files simultaneously, failing to close files can lead to resource exhaustion (e.g., running out of file descriptors), resulting in errors or crashes.\n",
        "2. Ensuring Data Integrity:\n",
        "In cases where data is written to the file, the operating system may buffer the data in memory for efficiency. This means that the data may not be immediately written to disk, especially if you’re writing large amounts of data.\n",
        "If the file is not properly closed, the buffered data might not be flushed to the file, leading to data loss or incomplete writes.\n",
        "Closing the file ensures that all data is properly saved and flushed from the memory buffer to the disk.\n",
        "3. Preventing Memory Leaks:\n",
        "File objects in Python consume memory. If files are opened but not closed, memory usage can increase over time, causing a memory leak where the program keeps consuming memory without releasing it.\n",
        "This can eventually lead to slower performance or crashes in long-running programs.\n",
        "4. Allowing Other Programs or Users to Access the File:\n",
        "On some operating systems, if a file is open, other programs or users may not be able to access the file, particularly if it’s in write mode. Closing the file releases the lock on the file and allows other processes to access it.\n",
        "This is especially important in multi-user or multi-process environments, where multiple applications may need to access the same file concurrently.\n",
        "5. Best Practice for Code Reliability:\n",
        "Closing files explicitly improves the reliability of the code. Even if your program completes execution, or if an exception occurs, files that are properly closed will not leave resources allocated or cause problems for subsequent operations.\n",
        "This practice ensures that the program adheres to good resource management principles, making it more robust and preventing errors."
      ],
      "metadata": {
        "id": "tP7PK-Z6guk0"
      }
    },
    {
      "cell_type": "markdown",
      "source": [
        "Q20. F What is the difference between file.read() and file.readline() in Python?\n",
        "- Answer In Python, file.read() and file.readline() are both methods used for reading from a file, but they behave differently in how they retrieve the contents. Here's a breakdown of their differences:\n",
        "\n",
        "1. file.read():\n",
        "Reads the entire file: The read() method reads the entire content of the file in one go.\n",
        "Returns a string: It returns a single string containing all the data from the file, including newline characters.\n",
        "Useful for small to medium-sized files: This method is appropriate if the file is not too large and you want to read the whole file into memory.\n",
        "No line-by-line control: Since it reads the entire content at once, you don’t have line-by-line control unless you process the string (e.g., splitting it into lines later).\n",
        "2. file.readline():\n",
        "Reads one line at a time: The readline() method reads a single line from the file at a time, including the newline character (\\n) at the end of the line.\n",
        "Returns a string: Each call to readline() returns a string containing just one line from the file.\n",
        "Useful for line-by-line processing: This method is ideal when you want to process large files line by line without loading the entire file into memory at once.\n",
        "Iterative: You can repeatedly call readline() to read all lines one by one, or you can loop through the file object itself, which is essentially a shortcut for calling readline() for each line."
      ],
      "metadata": {
        "id": "mXlB0DhQhCZH"
      }
    },
    {
      "cell_type": "markdown",
      "source": [
        "Q21. What is the logging module in Python used for?\n",
        "- Answer The logging module in Python is used for tracking events that happen when a program runs. It allows developers to log messages related to the execution of their program, which helps with debugging, monitoring, and understanding program behavior. These logs can include various levels of severity, such as informational messages, warnings, errors, and critical issues.\n",
        "\n",
        "Main Purposes of the logging Module:\n",
        "Recording Events and Errors:\n",
        "\n",
        "The logging module helps in recording events that occur during the execution of the program, such as normal operation, warnings, errors, and debugging information.\n",
        "Logs provide insights into how a program is running, what went wrong, or what is happening at a particular point in time.\n",
        "Tracking and Debugging:\n",
        "\n",
        "It is invaluable for debugging, as developers can insert logging statements at various points in the code to trace program flow and track variable values without interrupting the program execution.\n",
        "For example, you can track the flow of execution to see if certain blocks of code are being executed, or if errors are occurring at specific points.\n",
        "Monitoring and Production Use:\n",
        "\n",
        "In production systems, logs can be used to monitor the health of an application, detect anomalies, and identify potential issues early on.\n",
        "Logs can be sent to remote servers or stored in log files for further analysis, making them crucial for maintaining long-running applications.\n",
        "Customizing Log Output:\n",
        "\n",
        "You can configure the logging module to record messages to different output locations, such as the console, log files, or even remote servers.\n",
        "Log formatting can be customized to include timestamps, log levels, and message details.\n",
        "Handling Different Levels of Severity:\n",
        "\n",
        "Logs can be categorized based on their severity level (e.g., debug, info, warning, error, critical), allowing you to control which types of messages are recorded.\n",
        "This allows for more granular control over what gets logged depending on the environment (e.g., debug messages in development vs. only critical errors in production).\n",
        "Common Features of the logging Module:\n",
        "Log Levels: The logging module defines several log levels, each representing the severity of an event. These levels are:\n",
        "\n",
        "DEBUG: Detailed information, typically useful for diagnosing problems. Often used during development.\n",
        "INFO: General information about the program's execution. It signifies that everything is working as expected.\n",
        "WARNING: Indicates that something unexpected happened or that there might be an issue, but the program can still continue.\n",
        "ERROR: Indicates a more serious problem that prevented part of the program from working.\n",
        "CRITICAL: A very serious error that may cause the program to stop or become unstable.\n",
        "Logging Handlers:\n",
        "\n",
        "The logging module supports various \"handlers\" that define where logs should go (e.g., console, files, remote servers).\n",
        "Common handlers include:\n",
        "StreamHandler (outputs to the console)\n",
        "FileHandler (outputs to a file)\n",
        "RotatingFileHandler (outputs to a file, rotating it when it gets too large)\n",
        "SMTPHandler (sends logs as emails)\n",
        "Logging Format:\n",
        "\n",
        "You can customize the log output format (e.g., including timestamps, log level, and the message).\n",
        "For example, you can format the log message to include details such as the time of the event, the log level, and the message itself."
      ],
      "metadata": {
        "id": "IXzOW84fhTwE"
      }
    },
    {
      "cell_type": "markdown",
      "source": [
        "Q22. What is the os module in Python used for in file handling?\n",
        "- Answer The os module in Python is used for interacting with the operating system, and it provides several functions for file handling and other system-related tasks. In the context of file handling, the os module provides tools to work with files and directories beyond basic file reading and writing, which is typically done using the open() function. The os module helps you manage file paths, check for file existence, manipulate directories, and perform system-level operations.\n",
        "\n",
        "Here’s an overview of what the os module is used for in file handling:\n",
        "\n",
        "1. File and Directory Management:\n",
        "The os module provides functions for managing files and directories. These functions allow you to check for the existence of files, create directories, remove files, and rename files, among others.\n",
        "2. Checking File Existence:\n",
        "The os module provides ways to check if a file or directory exists.\n",
        "\n",
        "os.path.exists(path):\n",
        "\n",
        "Returns True if the path (file or directory) exists, and False otherwise.\n",
        "3. Working with File Paths:\n",
        "The os module provides functions for manipulating file paths in a way that is platform-independent (works across Windows, Linux, and macOS).\n",
        "\n",
        "os.path.join(path, *paths):\n",
        "\n",
        "Joins one or more path components intelligently, ensuring the correct path separator for the current operating system (e.g., \\ for Windows, / for Unix-like systems).\n",
        "4. Getting File and Directory Information:\n",
        "The os module provides functions to retrieve file and directory information, such as file size, modification time, and more.\n",
        "\n",
        "os.path.getsize(path):\n",
        "\n",
        "Returns the size of the file at the specified path in bytes.\n",
        "5. Changing the Current Working Directory:\n",
        "os.chdir(path):\n",
        "\n",
        "Changes the current working directory to the specified path.\n",
        "6. File Permission Management:\n",
        "os.chmod(path, mode):\n",
        "\n",
        "Changes the permissions of the file at the specified path."
      ],
      "metadata": {
        "id": "ZtY22fnqhpO2"
      }
    },
    {
      "cell_type": "markdown",
      "source": [
        "Q23. What are the challenges associated with memory management in Python?\n",
        "- Answer Memory management in Python is essential for optimizing the performance of programs and preventing resource exhaustion. Although Python provides an automatic memory management system, there are several challenges associated with it. These challenges mainly revolve around the underlying mechanisms of memory allocation, garbage collection, and the performance impact of certain memory management techniques.\n",
        "\n",
        "Key Challenges in Python Memory Management:\n",
        "1. Automatic Garbage Collection and Its Limitations:\n",
        "Garbage Collection (GC): Python uses reference counting and a cyclic garbage collector to automatically manage memory. The reference counting tracks the number of references to an object, and when the count drops to zero, the memory can be freed. Additionally, Python’s cyclic garbage collector detects and cleans up objects involved in reference cycles (e.g., objects referring to each other in a cycle).\n",
        "Challenge:\n",
        "Cyclic References: Python's garbage collector is good at cleaning up most objects but struggles with detecting and cleaning up cyclic references, even though they no longer have any external references. For example, two objects that reference each other and are no longer used by the program might not be garbage collected if they are part of a reference cycle.\n",
        "Delayed Collection: The cyclic garbage collector doesn’t run continuously. It runs periodically in the background, which can lead to delayed memory cleanup. This could result in increased memory usage until the GC runs and frees unused objects.\n",
        "2. Memory Leaks in Long-Running Programs:\n",
        "While Python’s garbage collection handles most memory cleanup, memory leaks can still occur in long-running applications, particularly in cases where objects are unintentionally kept alive due to lingering references or circular references.\n",
        "Challenge:\n",
        "Unreleased Object References: If references to objects are unintentionally held (e.g., through global variables, class attributes, or closures), those objects won’t be collected by the garbage collector, leading to a memory leak.\n",
        "Resource Management: In long-running applications like servers, memory leaks can accumulate over time and cause the program to consume excessive memory, which may eventually lead to crashes or slowdowns.\n",
        "3. Overhead of Automatic Memory Management:\n",
        "Python’s memory management, while convenient, introduces overhead due to the reference counting and garbage collection mechanisms.\n",
        "Challenge:\n",
        "Performance Impact: The reference counting mechanism requires keeping track of the number of references to an object, and the garbage collector occasionally interrupts the execution to reclaim memory, which can have performance implications, especially in performance-critical applications.\n",
        "Memory Fragmentation: Because Python dynamically allocates and deallocates memory, it can suffer from memory fragmentation, where the memory space becomes fragmented over time due to the frequent allocation and deallocation of memory blocks of varying sizes.\n",
        "4. Limited Control Over Memory Management:\n",
        "In languages like C or C++, developers have direct control over memory allocation and deallocation (e.g., using malloc and free), but in Python, the process is abstracted away. This lack of control means that developers cannot optimize memory management directly.\n",
        "Challenge:\n",
        "Custom Memory Management: While Python provides ways to interact with memory (e.g., through the gc module), it doesn’t allow fine-grained control over memory allocation and deallocation. This can be limiting for performance-critical applications or situations where specific memory optimizations are needed.\n",
        "5. Object Overhead:\n",
        "Python objects are typically more memory-intensive than objects in lower-level languages due to Python’s dynamic typing and object overhead.\n",
        "Challenge:\n",
        "Memory Overhead: Each Python object carries additional metadata (like reference counts, type information, etc.), which increases the memory usage for each object. For example, small integers and short strings in Python might have relatively high overhead compared to equivalent C types.\n",
        "Immutability of Strings and Tuples: Since Python strings and tuples are immutable, operations that modify these types often result in the creation of new objects, which can lead to unnecessary memory consumption, especially in programs that perform frequent string or tuple manipulations."
      ],
      "metadata": {
        "id": "zKdE9ChCiJPX"
      }
    },
    {
      "cell_type": "markdown",
      "source": [
        "Q24. How do you raise an exception manually in Python?\n",
        "- Answer In Python, you can raise an exception manually using the raise keyword. This allows you to signal that an error or exceptional condition has occurred in your program, and you can specify the type of exception to be raised."
      ],
      "metadata": {
        "id": "tuTWOXpTih56"
      }
    },
    {
      "cell_type": "markdown",
      "source": [
        "Q25. Why is it important to use multithreading in certain applications?\n",
        "- Answer Multithreading is important in certain applications because it allows for more efficient use of system resources and can significantly improve performance in scenarios that involve concurrent tasks. By allowing multiple threads to execute simultaneously (or at least appear to do so), multithreading provides a way to improve the responsiveness, scalability, and efficiency of a program.\n",
        "\n",
        "Here are some key reasons why multithreading is important in certain applications:\n",
        "\n",
        "1. Improved Performance in I/O-bound Applications\n",
        "I/O-bound operations: These involve tasks that spend a significant amount of time waiting for input/output operations, such as reading from or writing to files, making network requests, or interacting with databases.\n",
        "Why Multithreading Helps: In I/O-bound applications, threads can be utilized to continue performing other tasks while waiting for I/O operations to complete. For example, while one thread waits for data from a disk or a remote server, other threads can continue processing other data, thereby making better use of the CPU and reducing idle time.\n",
        "Example:\n",
        "\n",
        "A web server can use multiple threads to handle multiple client requests simultaneously, where each thread manages a separate I/O request (e.g., reading or writing data from/to a database) while the server continues to accept new requests.\n",
        "2. Better Responsiveness in User Interfaces\n",
        "Why Multithreading Helps: In GUI (Graphical User Interface) applications, long-running tasks (like downloading files or processing data) can make the interface unresponsive. By using multithreading, you can ensure that the user interface remains responsive even when background tasks are running.\n",
        "Example: A text editor might perform spell-checking or syntax highlighting in the background on a separate thread while allowing the user to continue typing in the main thread without interruption.\n",
        "3. Parallelism in CPU-bound Tasks (Limited in Python Due to GIL)\n",
        "CPU-bound operations: These are tasks that require significant computational resources, such as mathematical calculations, image processing, or data analysis.\n",
        "Why Multithreading Helps: While Python’s Global Interpreter Lock (GIL) limits true parallel execution in threads, multithreading can still be useful for dividing a task into smaller sub-tasks (especially in applications that can make use of concurrent I/O-bound tasks).\n",
        "For tasks that are intensive in computation, multiprocessing (using separate processes) can be a better choice in Python because it bypasses the GIL and takes advantage of multiple CPU cores.\n",
        "Example: In a data processing application, you can divide a large dataset into chunks and process each chunk in a separate thread (if the task is I/O-bound) or process (if the task is CPU-bound) to speed up overall execution.\n",
        "\n",
        "4. Handling Multiple Concurrent Tasks (Concurrency)\n",
        "Why Multithreading Helps: In applications that involve many concurrent tasks or events (e.g., networking or servers), multithreading can be used to handle multiple tasks in parallel, without having to wait for one task to finish before starting another.\n",
        "Example: In a chat server, each incoming message from different clients can be handled by a separate thread, allowing the server to handle multiple conversations concurrently without blocking any one client.\n",
        "5. Scalability and Resource Utilization\n",
        "Why Multithreading Helps: With modern multi-core CPUs, multithreading can help applications scale by distributing tasks across multiple threads, ensuring that multiple CPU cores are being utilized efficiently. This can lead to better performance and the ability to handle larger workloads.\n",
        "Example: High-performance web servers (e.g., Nginx) or applications that require fast processing of requests use multithreading to process requests in parallel, which helps the system handle a large number of concurrent requests without delays.\n",
        "6. Real-time Systems and Time-sensitive Applications\n",
        "Why Multithreading Helps: Real-time systems often need to meet strict timing constraints. Multithreading allows different parts of the application to run independently, ensuring that critical tasks can be prioritized and completed on time.\n",
        "Example: In embedded systems or robotics, where real-time processing of sensor data is required, multithreading ensures that critical data is processed as soon as it is received, without delay.\n",
        "7. Handling Periodic or Time-based Tasks\n",
        "Why Multithreading Helps: For applications that require periodic execution of tasks, multithreading can be used to schedule tasks at regular intervals without blocking the main program flow.\n",
        "Example: In network monitoring tools, a thread can periodically check the health of a server or ping a network device to ensure it is alive, while the main application continues other operations.\n",
        "8. Simplified Program Structure\n",
        "Why Multithreading Helps: In some cases, splitting a complex problem into multiple threads can make the program’s logic simpler and more organized by separating tasks into isolated units of work.\n",
        "Example: A simulation program that models different processes or entities (like traffic simulation) might use a separate thread for each vehicle or process, making the code more modular and easier to manage.\n",
        "9. Improved User Experience in Interactive Applications\n",
        "Why Multithreading Helps: In applications where tasks may take a long time to complete (e.g., loading large files, rendering complex scenes, etc.), multithreading allows for feedback to the user (e.g., a progress bar) while the task runs in the background.\n",
        "Example: Video editing software might use a separate thread to render frames in the background, while the user can continue editing or adjusting other parts of the video.\n",
        "Key Points to Consider:\n",
        "Concurrency vs Parallelism: Multithreading is often associated with concurrency (tasks appearing to run simultaneously), but in Python, due to the GIL, it doesn’t always provide true parallelism for CPU-bound tasks. For true parallelism, multiprocessing (using separate processes) is often preferred.\n",
        "\n",
        "Thread Safety: When using multithreading, it's crucial to ensure that shared resources are accessed in a thread-safe manner (using locks, semaphores, etc.) to avoid data corruption or inconsistencies.\n",
        "\n",
        "Complexity and Debugging: Multithreaded applications can be more complex to write, understand, and debug due to issues like race conditions, deadlocks, and thread synchronization problems.\n",
        "\n",
        "Conclusion:\n",
        "Multithreading is important in applications where tasks can be performed concurrently or where the system needs to handle multiple tasks at once without blocking. It is particularly useful for I/O-bound tasks, improving the responsiveness of user interfaces, and enhancing scalability and efficiency in concurrent systems. However, it's important to weigh the trade-offs, such as complexity and potential performance bottlenecks, when deciding whether to use multithreading in your application."
      ],
      "metadata": {
        "id": "J_1ko0RfisDq"
      }
    },
    {
      "cell_type": "markdown",
      "source": [
        "## Practical Questions\n"
      ],
      "metadata": {
        "id": "wRS_FjRsi41S"
      }
    },
    {
      "cell_type": "code",
      "source": [
        "##  Q1. How can you open a file for writing in Python and write a string to it?\n",
        "# Define the filename\n",
        "filename = 'example.txt'\n",
        "\n",
        "# Define the string to be written\n",
        "text_to_write = \"Hello, world! This is a test string.\"\n",
        "\n",
        "# Open the file in write mode ('w')\n",
        "# If the file doesn't exist, it will be created. If it exists, it will be overwritten.\n",
        "with open(filename, 'w') as file:\n",
        "    file.write(text_to_write)\n",
        "\n",
        "# Print a confirmation message\n",
        "print(f\"The text has been written to {filename}.\")\n"
      ],
      "metadata": {
        "colab": {
          "base_uri": "https://localhost:8080/"
        },
        "id": "1wg7HbX-juMv",
        "outputId": "26bf7543-f495-4008-e58b-1ba9c783dc5a"
      },
      "execution_count": 1,
      "outputs": [
        {
          "output_type": "stream",
          "name": "stdout",
          "text": [
            "The text has been written to example.txt.\n"
          ]
        }
      ]
    },
    {
      "cell_type": "code",
      "source": [
        "## Q2.  F Write a Python program to read the contents of a file and print each line\n",
        "# Define the filename\n",
        "filename = 'example.txt'\n",
        "\n",
        "# Open the file in read mode ('r')\n",
        "try:\n",
        "    with open(filename, 'r') as file:\n",
        "        # Read each line and print it\n",
        "        for line in file:\n",
        "            print(line.strip())  # strip() is used to remove the newline character\n",
        "except FileNotFoundError:\n",
        "    print(f\"The file {filename} does not exist.\")\n"
      ],
      "metadata": {
        "colab": {
          "base_uri": "https://localhost:8080/"
        },
        "id": "ShK_zsR0j7fM",
        "outputId": "2c75e016-a1a7-4f07-858c-fe9649ed3497"
      },
      "execution_count": 2,
      "outputs": [
        {
          "output_type": "stream",
          "name": "stdout",
          "text": [
            "Hello, world! This is a test string.\n"
          ]
        }
      ]
    },
    {
      "cell_type": "code",
      "source": [
        "## Q3. How would you handle a case where the file doesn't exist while trying to open it for reading\n",
        "# Define the filename\n",
        "filename = 'example.txt'\n",
        "\n",
        "# Try to open the file in read mode ('r')\n",
        "try:\n",
        "    # Attempt to open the file\n",
        "    with open(filename, 'r') as file:\n",
        "        # If the file is opened successfully, read and print its contents\n",
        "        print(\"File contents:\")\n",
        "        for line in file:\n",
        "            print(line.strip())  # strip() removes any trailing newline characters\n",
        "except FileNotFoundError:\n",
        "    # This block will be executed if the file does not exist\n",
        "    print(f\"Error: The file '{filename}' does not exist.\")\n"
      ],
      "metadata": {
        "colab": {
          "base_uri": "https://localhost:8080/"
        },
        "id": "IyKiZkeykEwy",
        "outputId": "67804eb8-98af-42ab-c52a-f20e0c938e88"
      },
      "execution_count": 5,
      "outputs": [
        {
          "output_type": "stream",
          "name": "stdout",
          "text": [
            "File contents:\n",
            "Hello, world! This is a test string.\n"
          ]
        }
      ]
    },
    {
      "cell_type": "code",
      "source": [
        "## Q4. Write a Python script that reads from one file and writes its content to another fileF\n",
        "# Define the source file (input file) and destination file (output file)\n",
        "source_filename = 'source.txt'\n",
        "destination_filename = 'destination.txt'\n",
        "\n",
        "try:\n",
        "    # Open the source file in read mode ('r')\n",
        "    with open(source_filename, 'r') as source_file:\n",
        "        # Open the destination file in write mode ('w')\n",
        "        with open(destination_filename, 'w') as destination_file:\n",
        "            # Read the content from the source file and write it to the destination file\n",
        "            content = source_file.read()  # Read the entire content of the source file\n",
        "            destination_file.write(content)  # Write the content to the destination file\n",
        "\n",
        "    print(f\"Content successfully copied from {source_filename} to {destination_filename}.\")\n",
        "except FileNotFoundError:\n",
        "    print(f\"Error: The file '{source_filename}' does not exist.\")\n",
        "except Exception as e:\n",
        "    print(f\"An error occurred: {e}\")\n"
      ],
      "metadata": {
        "colab": {
          "base_uri": "https://localhost:8080/"
        },
        "id": "9C3Aq0WQkhbn",
        "outputId": "17780619-de08-452e-8a17-1ac5a6169a1b"
      },
      "execution_count": 6,
      "outputs": [
        {
          "output_type": "stream",
          "name": "stdout",
          "text": [
            "Error: The file 'source.txt' does not exist.\n"
          ]
        }
      ]
    },
    {
      "cell_type": "code",
      "source": [
        "## Q5.\n",
        "# Function to perform division and handle division by zero error\n",
        "def divide_numbers():\n",
        "    try:\n",
        "        # Input: Get two numbers from the user\n",
        "        numerator = float(input(\"Enter the numerator: \"))\n",
        "        denominator = float(input(\"Enter the denominator: \"))\n",
        "\n",
        "        # Attempt to divide\n",
        "        result = numerator / denominator\n",
        "\n",
        "    except ZeroDivisionError:\n",
        "        # Handle the case where the denominator is zero\n",
        "        print(\"Error: Cannot divide by zero. Please enter a non-zero denominator.\")\n",
        "    except ValueError:\n",
        "        # Handle invalid input (non-numeric values)\n",
        "        print(\"Error: Please enter valid numbers.\")\n",
        "    else:\n",
        "        # If no exception occurred, print the result\n",
        "        print(f\"The result of {numerator} divided by {denominator} is {result}\")\n",
        "\n",
        "# Call the function\n",
        "divide_numbers()\n"
      ],
      "metadata": {
        "colab": {
          "base_uri": "https://localhost:8080/"
        },
        "id": "En6mvw10kujA",
        "outputId": "f2fc6d43-2997-4dc9-a68f-1f9233f42b2c"
      },
      "execution_count": 8,
      "outputs": [
        {
          "output_type": "stream",
          "name": "stdout",
          "text": [
            "Enter the numerator: 6\n",
            "Enter the denominator: 3\n",
            "The result of 6.0 divided by 3.0 is 2.0\n"
          ]
        }
      ]
    },
    {
      "cell_type": "code",
      "source": [
        "## Q6. Write a Python program that logs an error message to a log file when a division by zero exception occurs.\n",
        "import logging\n",
        "\n",
        "# Set up logging configuration\n",
        "logging.basicConfig(\n",
        "    filename='error_log.txt',  # Log file where errors will be stored\n",
        "    level=logging.ERROR,       # Set the log level to ERROR (will log errors and more severe messages)\n",
        "    format='%(asctime)s - %(levelname)s - %(message)s',  # Log format\n",
        ")\n",
        "\n",
        "# Function to perform division and handle division by zero error\n",
        "def divide_numbers():\n",
        "    try:\n",
        "        # Input: Get two numbers from the user\n",
        "        numerator = float(input(\"Enter the numerator: \"))\n",
        "        denominator = float(input(\"Enter the denominator: \"))\n",
        "\n",
        "        # Attempt to divide\n",
        "        result = numerator / denominator\n",
        "\n",
        "    except ZeroDivisionError as e:\n",
        "        # Log the error message to the log file\n",
        "        logging.error(f\"Division by zero error: {e}. Numerator: {numerator}, Denominator: {denominator}\")\n",
        "        print(\"Error: Cannot divide by zero. Please enter a non-zero denominator.\")\n",
        "    except ValueError as e:\n",
        "        # Handle invalid input (non-numeric values)\n",
        "        logging.error(f\"Invalid input error: {e}\")\n",
        "        print(\"Error: Please enter valid numbers.\")\n",
        "    else:\n",
        "        # If no exception occurred, print the result\n",
        "        print(f\"The result of {numerator} divided by {denominator} is {result}\")\n",
        "\n",
        "# Call the function\n",
        "divide_numbers()\n"
      ],
      "metadata": {
        "colab": {
          "base_uri": "https://localhost:8080/"
        },
        "id": "9rsgoobmk-zt",
        "outputId": "bc2bd178-4143-4f27-fbf3-63c4b25c4eb8"
      },
      "execution_count": 10,
      "outputs": [
        {
          "name": "stdout",
          "output_type": "stream",
          "text": [
            "Enter the numerator: 8\n",
            "Enter the denominator: 0\n"
          ]
        },
        {
          "output_type": "stream",
          "name": "stderr",
          "text": [
            "ERROR:root:Division by zero error: float division by zero. Numerator: 8.0, Denominator: 0.0\n"
          ]
        },
        {
          "output_type": "stream",
          "name": "stdout",
          "text": [
            "Error: Cannot divide by zero. Please enter a non-zero denominator.\n"
          ]
        }
      ]
    },
    {
      "cell_type": "code",
      "source": [
        "## Q7. F How do you log information at different levels (INFO, ERROR, WARNING) in Python using the logging module?\n",
        "import logging\n",
        "\n",
        "# Set up logging configuration\n",
        "logging.basicConfig(\n",
        "    filename='app.log',  # Log file to store the logs\n",
        "    level=logging.DEBUG,  # Minimum level to log (DEBUG will log everything)\n",
        "    format='%(asctime)s - %(levelname)s - %(message)s'  # Log format\n",
        ")\n",
        "\n",
        "# Log messages at different levels\n",
        "logging.debug(\"This is a debug message, useful for developers.\")\n",
        "logging.info(\"This is an info message, typically for reporting progress.\")\n",
        "logging.warning(\"This is a warning message, indicating something unexpected.\")\n",
        "logging.error(\"This is an error message, indicating a serious problem.\")\n",
        "logging.critical(\"This is a critical message, indicating a major failure.\")\n",
        "\n",
        "# Simulate a function that logs at various levels\n",
        "def example_function():\n",
        "    logging.info(\"Example function started.\")\n",
        "    try:\n",
        "        x = 10 / 0  # This will raise a ZeroDivisionError\n",
        "    except ZeroDivisionError as e:\n",
        "        logging.error(f\"An error occurred: {e}\")\n",
        "    logging.info(\"Example function finished.\")\n",
        "\n",
        "# Call the example function\n",
        "example_function()\n"
      ],
      "metadata": {
        "colab": {
          "base_uri": "https://localhost:8080/"
        },
        "id": "brECanIslWZR",
        "outputId": "72cfd0ca-78c5-463f-fc9d-40933dc90eec"
      },
      "execution_count": 12,
      "outputs": [
        {
          "output_type": "stream",
          "name": "stderr",
          "text": [
            "WARNING:root:This is a warning message, indicating something unexpected.\n",
            "ERROR:root:This is an error message, indicating a serious problem.\n",
            "CRITICAL:root:This is a critical message, indicating a major failure.\n",
            "ERROR:root:An error occurred: division by zero\n"
          ]
        }
      ]
    },
    {
      "cell_type": "code",
      "source": [
        "## Q8 Write a program to handle a file opening error using exception handling?\n",
        "# Function to open a file and read its content\n",
        "def open_and_read_file(filename):\n",
        "    try:\n",
        "        # Attempt to open the file in read mode ('r')\n",
        "        with open(filename, 'r') as file:\n",
        "            # Read and print the content of the file\n",
        "            content = file.read()\n",
        "            print(\"File content:\")\n",
        "            print(content)\n",
        "    except FileNotFoundError:\n",
        "        # Handle the case where the file is not found\n",
        "        print(f\"Error: The file '{filename}' does not exist.\")\n",
        "    except PermissionError:\n",
        "        # Handle the case where the user does not have permission to access the file\n",
        "        print(f\"Error: You do not have permission to open the file '{filename}'.\")\n",
        "    except Exception as e:\n",
        "        # Catch any other exceptions that may occur\n",
        "        print(f\"An unexpected error occurred: {e}\")\n",
        "\n",
        "# Test the function with a sample filename\n",
        "filename = 'example.txt'\n",
        "open_and_read_file(filename)\n"
      ],
      "metadata": {
        "colab": {
          "base_uri": "https://localhost:8080/"
        },
        "id": "tnDACgVolk-O",
        "outputId": "21a329e5-02a2-4e0a-eeb0-683e5976ebfd"
      },
      "execution_count": 13,
      "outputs": [
        {
          "output_type": "stream",
          "name": "stdout",
          "text": [
            "File content:\n",
            "Hello, world! This is a test string.\n"
          ]
        }
      ]
    },
    {
      "cell_type": "code",
      "source": [
        "## Q9 How can you read a file line by line and store its content in a list in Python?\n",
        "# Function to read a file line by line and store its content in a list\n",
        "def read_file_to_list(filename):\n",
        "    lines = []  # Initialize an empty list to store lines\n",
        "    try:\n",
        "        # Open the file in read mode ('r')\n",
        "        with open(filename, 'r') as file:\n",
        "            # Loop through the file line by line\n",
        "            for line in file:\n",
        "                # Strip the newline character and add the line to the list\n",
        "                lines.append(line.strip())  # .strip() removes leading/trailing whitespace including newline\n",
        "        return lines\n",
        "    except FileNotFoundError:\n",
        "        print(f\"Error: The file '{filename}' does not exist.\")\n",
        "    except PermissionError:\n",
        "        print(f\"Error: You do not have permission to open the file '{filename}'.\")\n",
        "    except Exception as e:\n",
        "        print(f\"An unexpected error occurred: {e}\")\n",
        "\n",
        "# Test the function with a sample filename\n",
        "filename = 'example.txt'  # Replace with your file name\n",
        "lines = read_file_to_list(filename)\n",
        "\n",
        "# If the file was successfully read, print the content\n",
        "if lines:\n",
        "    print(\"File content as a list:\")\n",
        "    print(lines)\n"
      ],
      "metadata": {
        "colab": {
          "base_uri": "https://localhost:8080/"
        },
        "id": "7R4RdxLnl0T5",
        "outputId": "2356a300-0383-49be-ac91-75b54ef9a90d"
      },
      "execution_count": 15,
      "outputs": [
        {
          "output_type": "stream",
          "name": "stdout",
          "text": [
            "File content as a list:\n",
            "['Hello, world! This is a test string.']\n"
          ]
        }
      ]
    },
    {
      "cell_type": "code",
      "source": [
        "##Q10\n",
        "# Function to append data to an existing file\n",
        "def append_to_file(filename, data):\n",
        "    try:\n",
        "        # Open the file in append mode ('a')\n",
        "        with open(filename, 'a') as file:\n",
        "            # Write the data to the file\n",
        "            file.write(data + '\\n')  # Appending data with a newline at the end\n",
        "        print(\"Data has been appended successfully.\")\n",
        "    except FileNotFoundError:\n",
        "        print(f\"Error: The file '{filename}' does not exist.\")\n",
        "    except PermissionError:\n",
        "        print(f\"Error: You do not have permission to write to the file '{filename}'.\")\n",
        "    except Exception as e:\n",
        "        print(f\"An unexpected error occurred: {e}\")\n",
        "\n",
        "# Test the function by appending some text to a file\n",
        "filename = 'example.txt'  # Replace with your file name\n",
        "data_to_append = \"This is new data added to the file.\"\n",
        "append_to_file(filename, data_to_append)\n"
      ],
      "metadata": {
        "colab": {
          "base_uri": "https://localhost:8080/"
        },
        "id": "CqzVxJC1mM_T",
        "outputId": "b2bed04f-2ca9-40ba-edca-9392fe8b291b"
      },
      "execution_count": 16,
      "outputs": [
        {
          "output_type": "stream",
          "name": "stdout",
          "text": [
            "Data has been appended successfully.\n"
          ]
        }
      ]
    },
    {
      "cell_type": "code",
      "source": [
        "## Q11.\n",
        "# Function to access a dictionary key and handle KeyError\n",
        "def access_dict_key(dictionary, key):\n",
        "    try:\n",
        "        # Attempt to access the value using the key\n",
        "        value = dictionary[key]\n",
        "        print(f\"Value for key '{key}': {value}\")\n",
        "    except KeyError:\n",
        "        # Handle the case where the key does not exist in the dictionary\n",
        "        print(f\"Error: The key '{key}' does not exist in the dictionary.\")\n",
        "\n",
        "# Sample dictionary\n",
        "sample_dict = {\n",
        "    'name': 'Alice',\n",
        "    'age': 30,\n",
        "    'city': 'New York'\n",
        "}\n",
        "\n",
        "# Test the function with a valid key and an invalid key\n",
        "access_dict_key(sample_dict, 'name')  # Valid key\n",
        "access_dict_key(sample_dict, 'country')  # Invalid key\n"
      ],
      "metadata": {
        "colab": {
          "base_uri": "https://localhost:8080/"
        },
        "id": "ZNCvDfvTmXj7",
        "outputId": "9d6ca37d-6ef8-4fbe-f05b-63b436d9a400"
      },
      "execution_count": 17,
      "outputs": [
        {
          "output_type": "stream",
          "name": "stdout",
          "text": [
            "Value for key 'name': Alice\n",
            "Error: The key 'country' does not exist in the dictionary.\n"
          ]
        }
      ]
    },
    {
      "cell_type": "code",
      "source": [
        "## Q12.\n",
        "# Function to demonstrate multiple except blocks handling different exceptions\n",
        "def handle_multiple_exceptions():\n",
        "    try:\n",
        "        # Example 1: Zero Division Error\n",
        "        x = 10\n",
        "        y = 0\n",
        "        result = x / y  # This will raise a ZeroDivisionError\n",
        "        print(f\"Result of division: {result}\")\n",
        "\n",
        "    except ZeroDivisionError:\n",
        "        # Handling ZeroDivisionError\n",
        "        print(\"Error: You can't divide by zero!\")\n",
        "\n",
        "    try:\n",
        "        # Example 2: File Not Found Error\n",
        "        file_name = \"non_existent_file.txt\"\n",
        "        with open(file_name, 'r') as file:\n",
        "            content = file.read()  # This will raise a FileNotFoundError if the file doesn't exist\n",
        "            print(content)\n",
        "\n",
        "    except FileNotFoundError:\n",
        "        # Handling FileNotFoundError\n",
        "        print(f\"Error: The file '{file_name}' does not exist.\")\n",
        "\n",
        "    try:\n",
        "        # Example 3: Value Error\n",
        "        user_input = \"abc\"\n",
        "        number = int(user_input)  # This will raise a ValueError because \"abc\" is not a valid integer\n",
        "        print(f\"Converted number: {number}\")\n",
        "\n",
        "    except ValueError:\n",
        "        # Handling ValueError\n",
        "        print(f\"Error: '{user_input}' is not a valid integer.\")\n",
        "\n",
        "    try:\n",
        "        # Example 4: Index Error\n",
        "        my_list = [1, 2, 3]\n",
        "        print(my_list[5])  # This will raise an IndexError because index 5 is out of range\n",
        "\n",
        "    except IndexError:\n",
        "        # Handling IndexError\n",
        "        print(\"Error: Index out of range.\")\n",
        "\n",
        "    try:\n",
        "        # Example 5: Key Error\n",
        "        my_dict = {'name': 'Alice', 'age': 30}\n",
        "        print(my_dict['city'])  # This will raise a KeyError because 'city' is not in the dictionary\n",
        "\n",
        "    except KeyError:\n",
        "        # Handling KeyError\n",
        "        print(\"Error: Key not found in the dictionary.\")\n",
        "\n",
        "# Call the function to demonstrate handling different exceptions\n",
        "handle_multiple_exceptions()\n"
      ],
      "metadata": {
        "colab": {
          "base_uri": "https://localhost:8080/"
        },
        "id": "IAp9jr5RmiFv",
        "outputId": "1f2c9b84-c797-4d6a-d743-af9a75b508cc"
      },
      "execution_count": 18,
      "outputs": [
        {
          "output_type": "stream",
          "name": "stdout",
          "text": [
            "Error: You can't divide by zero!\n",
            "Error: The file 'non_existent_file.txt' does not exist.\n",
            "Error: 'abc' is not a valid integer.\n",
            "Error: Index out of range.\n",
            "Error: Key not found in the dictionary.\n"
          ]
        }
      ]
    },
    {
      "cell_type": "code",
      "source": [
        "##Q13.\n",
        "import os\n",
        "\n",
        "# Function to check if a file exists and then read it\n",
        "def read_file_if_exists(filename):\n",
        "    if os.path.exists(filename) and os.path.isfile(filename):\n",
        "        try:\n",
        "            # Open the file and read its content\n",
        "            with open(filename, 'r') as file:\n",
        "                content = file.read()\n",
        "                print(\"File content:\")\n",
        "                print(content)\n",
        "        except Exception as e:\n",
        "            print(f\"An error occurred while reading the file: {e}\")\n",
        "    else:\n",
        "        print(f\"Error: The file '{filename}' does not exist or is not a valid file.\")\n",
        "\n",
        "# Test the function with a sample filename\n",
        "filename = 'example.txt'  # Replace with your file name\n",
        "read_file_if_exists(filename)\n"
      ],
      "metadata": {
        "colab": {
          "base_uri": "https://localhost:8080/"
        },
        "id": "-SMmNsDnmuOs",
        "outputId": "693f715d-411f-4316-d41e-df25b3108f1e"
      },
      "execution_count": 19,
      "outputs": [
        {
          "output_type": "stream",
          "name": "stdout",
          "text": [
            "File content:\n",
            "Hello, world! This is a test string.This is new data added to the file.\n",
            "\n"
          ]
        }
      ]
    },
    {
      "cell_type": "code",
      "source": [
        "##Q14.\n",
        "import logging\n",
        "\n",
        "# Setting up the logging configuration\n",
        "logging.basicConfig(\n",
        "    filename='example.log',  # Log messages will be saved to this file\n",
        "    level=logging.DEBUG,  # Capture all levels of logs (DEBUG and above)\n",
        "    format='%(asctime)s - %(levelname)s - %(message)s',  # Log format\n",
        ")\n",
        "\n",
        "# Function to demonstrate logging\n",
        "def log_messages():\n",
        "    logging.debug(\"This is a debug message.\")  # Debug level message\n",
        "    logging.info(\"This is an informational message.\")  # Info level message\n",
        "    logging.warning(\"This is a warning message.\")  # Warning level message\n",
        "    logging.error(\"This is an error message.\")  # Error level message\n",
        "    logging.critical(\"This is a critical error message.\")  # Critical level message\n",
        "\n",
        "# Example of logging an error\n",
        "def divide_numbers(a, b):\n",
        "    try:\n",
        "        result = a / b\n",
        "        logging.info(f\"Division successful: {a} / {b} = {result}\")\n",
        "    except ZeroDivisionError:\n",
        "        logging.error(f\"Error: Division by zero is not allowed. Attempted {a} / {b}\")\n",
        "\n",
        "# Call the function to log messages\n",
        "log_messages()\n",
        "\n",
        "# Example of logging an error during division\n",
        "divide_numbers(10, 0)  # Division by zero to trigger an error\n",
        "divide_numbers(10, 2)  # Valid division\n"
      ],
      "metadata": {
        "colab": {
          "base_uri": "https://localhost:8080/"
        },
        "id": "IaAOHRStm9KL",
        "outputId": "5bd385a4-a5d3-4221-f41f-f9d04ae4a8d5"
      },
      "execution_count": 20,
      "outputs": [
        {
          "output_type": "stream",
          "name": "stderr",
          "text": [
            "WARNING:root:This is a warning message.\n",
            "ERROR:root:This is an error message.\n",
            "CRITICAL:root:This is a critical error message.\n",
            "ERROR:root:Error: Division by zero is not allowed. Attempted 10 / 0\n"
          ]
        }
      ]
    },
    {
      "cell_type": "code",
      "source": [
        "##Q15.\n",
        "# Function to read and print the content of a file\n",
        "def read_file_content(filename):\n",
        "    try:\n",
        "        # Open the file in read mode\n",
        "        with open(filename, 'r') as file:\n",
        "            content = file.read()  # Read the entire file content\n",
        "\n",
        "            # Check if the file is empty\n",
        "            if not content:\n",
        "                print(f\"The file '{filename}' is empty.\")\n",
        "            else:\n",
        "                print(f\"Content of the file '{filename}':\")\n",
        "                print(content)\n",
        "\n",
        "    except FileNotFoundError:\n",
        "        # Handle the case where the file doesn't exist\n",
        "        print(f\"Error: The file '{filename}' does not exist.\")\n",
        "    except Exception as e:\n",
        "        # Catch any other unforeseen errors\n",
        "        print(f\"An unexpected error occurred: {e}\")\n",
        "\n",
        "# Test the function with a sample filename\n",
        "filename = 'example.txt'  # Replace with your file name\n",
        "read_file_content(filename)\n"
      ],
      "metadata": {
        "colab": {
          "base_uri": "https://localhost:8080/"
        },
        "id": "5n_KU3XnnHg3",
        "outputId": "40e9766d-fcb0-4ba8-d296-d8828e754598"
      },
      "execution_count": 21,
      "outputs": [
        {
          "output_type": "stream",
          "name": "stdout",
          "text": [
            "Content of the file 'example.txt':\n",
            "Hello, world! This is a test string.This is new data added to the file.\n",
            "\n"
          ]
        }
      ]
    },
    {
      "cell_type": "code",
      "source": [
        "## Q16.Demonstrate how to use memory profiling to check the memory usage of a small program\n",
        "\n",
        "import profile\n",
        "\n",
        "# Function to demonstrate memory usage\n",
        "def my_function():\n",
        "    print(\"Creating a list with 1 million integers...\")\n",
        "    a = [1] * (10**6)  # List of 1 million elements\n",
        "    print(\"List a created.\")\n",
        "\n",
        "    print(\"Creating another list with 10 million integers...\")\n",
        "    b = [2] * (10**7)  # List of 10 million elements\n",
        "    print(\"List b created.\")\n",
        "\n",
        "    del b  # Delete list b\n",
        "    print(\"List b deleted.\")\n",
        "\n",
        "    return a\n",
        "\n",
        "if __name__ == \"__main__\":\n",
        "    my_function()\n",
        "\n"
      ],
      "metadata": {
        "colab": {
          "base_uri": "https://localhost:8080/"
        },
        "id": "L6NYbKcVnQc9",
        "outputId": "ef183ba3-357c-47f8-e2a5-166789e321e8"
      },
      "execution_count": 27,
      "outputs": [
        {
          "output_type": "stream",
          "name": "stdout",
          "text": [
            "Creating a list with 1 million integers...\n",
            "List a created.\n",
            "Creating another list with 10 million integers...\n",
            "List b created.\n",
            "List b deleted.\n"
          ]
        }
      ]
    },
    {
      "cell_type": "code",
      "source": [
        "##Q17 Write a Python program to create and write a list of numbers to a file, one number per line?\n",
        "# Function to write numbers to a file\n",
        "def write_numbers_to_file(filename, numbers):\n",
        "    try:\n",
        "        # Open the file in write mode\n",
        "        with open(filename, 'w') as file:\n",
        "            # Iterate over the list of numbers and write each to a new line\n",
        "            for number in numbers:\n",
        "                file.write(f\"{number}\\n\")  # Write each number followed by a newline\n",
        "        print(f\"Numbers successfully written to {filename}\")\n",
        "\n",
        "    except Exception as e:\n",
        "        print(f\"An error occurred: {e}\")\n",
        "\n",
        "# Example list of numbers\n",
        "numbers_list = [1, 2, 3, 4, 5, 6, 7, 8, 9, 10]\n",
        "\n",
        "# Call the function to write numbers to a file\n",
        "filename = 'numbers.txt'  # The file where numbers will be written\n",
        "write_numbers_to_file(filename, numbers_list)\n"
      ],
      "metadata": {
        "colab": {
          "base_uri": "https://localhost:8080/"
        },
        "id": "dOCw9oJdn6H6",
        "outputId": "0e3cafea-b843-4b17-ddbe-d4145a4722f8"
      },
      "execution_count": 29,
      "outputs": [
        {
          "output_type": "stream",
          "name": "stdout",
          "text": [
            "Numbers successfully written to numbers.txt\n"
          ]
        }
      ]
    },
    {
      "cell_type": "code",
      "source": [
        "##Q18 Write a program that handles both IndexError and KeyError using a try-except block\n",
        "# Function to demonstrate handling IndexError and KeyError\n",
        "def handle_errors():\n",
        "    # Sample data structures\n",
        "    sample_list = [1, 2, 3, 4]\n",
        "    sample_dict = {'a': 1, 'b': 2, 'c': 3}\n",
        "\n",
        "    try:\n",
        "        # Attempting to access an element in the list at an invalid index\n",
        "        print(sample_list[5])  # IndexError: list index out of range\n",
        "\n",
        "        # Attempting to access a key in the dictionary that doesn't exist\n",
        "        print(sample_dict['d'])  # KeyError: 'd'\n",
        "\n",
        "    except IndexError as index_error:\n",
        "        print(f\"IndexError caught: {index_error}\")\n",
        "\n",
        "    except KeyError as key_error:\n",
        "        print(f\"KeyError caught: {key_error}\")\n"
      ],
      "metadata": {
        "colab": {
          "base_uri": "https://localhost:8080/"
        },
        "id": "UT_jcQjgpQ31",
        "outputId": "b79bb6e2-159a-4de2-d763-38a635c29fd3"
      },
      "execution_count": 32,
      "outputs": [
        {
          "output_type": "stream",
          "name": "stdout",
          "text": [
            "IndexError caught: list index out of range\n"
          ]
        }
      ]
    },
    {
      "cell_type": "code",
      "source": [
        "##Q19 How would you open a file and read its contents using a context manager in Python?\n",
        "# Function to read file contents using context manager\n",
        "def read_file_using_context_manager(filename):\n",
        "    try:\n",
        "        # Using 'with' statement to open the file\n",
        "        with open(filename, 'r') as file:\n",
        "            # Reading the contents of the file\n",
        "            content = file.read()\n",
        "            # Print the contents of the file\n",
        "            print(content)\n",
        "    except FileNotFoundError:\n",
        "        print(f\"The file {filename} does not exist.\")\n",
        "    except Exception as e:\n",
        "        print(f\"An error occurred: {e}\")\n",
        "\n",
        "# Example usage\n",
        "filename = \"example.txt\"  # Make sure this file exists in your working directory\n",
        "read_file_using_context_manager(filename)\n"
      ],
      "metadata": {
        "colab": {
          "base_uri": "https://localhost:8080/"
        },
        "id": "KixVLUbppcFM",
        "outputId": "9570a67f-9f5d-4115-ba7e-1a9d0609a236"
      },
      "execution_count": 33,
      "outputs": [
        {
          "output_type": "stream",
          "name": "stdout",
          "text": [
            "Hello, world! This is a test string.This is new data added to the file.\n",
            "\n"
          ]
        }
      ]
    },
    {
      "cell_type": "code",
      "source": [
        "##Q20. Write a Python program that reads a file and prints the number of occurrences of a specific word?\n",
        "# Function to count occurrences of a specific word in a file\n",
        "def count_word_occurrences(filename, word_to_count):\n",
        "    try:\n",
        "        # Open the file using a context manager\n",
        "        with open(filename, 'r') as file:\n",
        "            # Initialize a variable to keep track of word count\n",
        "            word_count = 0\n",
        "\n",
        "            # Loop through each line in the file\n",
        "            for line in file:\n",
        "                # Count the occurrences of the word in the current line\n",
        "                word_count += line.lower().split().count(word_to_count.lower())\n",
        "\n",
        "            # Print the final count of the word\n",
        "            print(f\"The word '{word_to_count}' appears {word_count} times in the file.\")\n",
        "\n",
        "    except FileNotFoundError:\n",
        "        print(f\"The file {filename} does not exist.\")\n",
        "    except Exception as e:\n",
        "        print(f\"An error occurred: {e}\")\n",
        "\n",
        "# Example usage\n",
        "filename = \"example.txt\"  # Replace with your file name\n",
        "word_to_count = \"python\"  # Word you want to count\n",
        "count_word_occurrences(filename, word_to_count)\n"
      ],
      "metadata": {
        "colab": {
          "base_uri": "https://localhost:8080/"
        },
        "id": "RdGLhq81plhO",
        "outputId": "04875d69-390d-4651-cf17-60ebe4ffdc93"
      },
      "execution_count": 34,
      "outputs": [
        {
          "output_type": "stream",
          "name": "stdout",
          "text": [
            "The word 'python' appears 0 times in the file.\n"
          ]
        }
      ]
    },
    {
      "cell_type": "code",
      "source": [
        "##Q21. F How can you check if a file is empty before attempting to read its contents?\n",
        "import os\n",
        "\n",
        "# Function to check if the file is empty\n",
        "def check_if_file_is_empty(filename):\n",
        "    try:\n",
        "        # Check if the file size is 0 bytes\n",
        "        if os.path.getsize(filename) == 0:\n",
        "            print(f\"The file '{filename}' is empty.\")\n",
        "        else:\n",
        "            print(f\"The file '{filename}' is not empty. Proceeding to read it.\")\n",
        "            read_file(filename)\n",
        "\n",
        "    except FileNotFoundError:\n",
        "        print(f\"The file '{filename}' does not exist.\")\n",
        "    except Exception as e:\n",
        "        print(f\"An error occurred: {e}\")\n",
        "\n",
        "# Function to read file content (if not empty)\n",
        "def read_file(filename):\n",
        "    try:\n",
        "        with open(filename, 'r') as file:\n",
        "            content = file.read()\n",
        "            print(\"File content:\")\n",
        "            print(content)\n",
        "    except Exception as e:\n",
        "        print(f\"An error occurred while reading the file: {e}\")\n",
        "\n",
        "# Example usage\n",
        "filename = \"example.txt\"  # Replace with your file name\n",
        "check_if_file_is_empty(filename)\n"
      ],
      "metadata": {
        "colab": {
          "base_uri": "https://localhost:8080/"
        },
        "id": "Gbb4bi-5puF0",
        "outputId": "7ccdd6cc-86ab-4dcd-f867-e5ad635109c9"
      },
      "execution_count": 35,
      "outputs": [
        {
          "output_type": "stream",
          "name": "stdout",
          "text": [
            "The file 'example.txt' is not empty. Proceeding to read it.\n",
            "File content:\n",
            "Hello, world! This is a test string.This is new data added to the file.\n",
            "\n"
          ]
        }
      ]
    },
    {
      "cell_type": "code",
      "source": [
        "##Q22. Write a Python program that writes to a log file when an error occurs during file handling.\n",
        "import logging\n",
        "\n",
        "# Set up logging configuration\n",
        "logging.basicConfig(\n",
        "    filename='file_handling_errors.log',  # Log file name\n",
        "    level=logging.ERROR,  # Log only ERROR messages and above\n",
        "    format='%(asctime)s - %(levelname)s - %(message)s'  # Log format\n",
        ")\n",
        "\n",
        "# Function to demonstrate file handling and error logging\n",
        "def handle_file_operations():\n",
        "    try:\n",
        "        # Attempt to open a file that may not exist\n",
        "        with open('non_existent_file.txt', 'r') as file:\n",
        "            content = file.read()\n",
        "            print(content)\n",
        "\n",
        "    except FileNotFoundError as e:\n",
        "        # Log the error message to the log file\n",
        "        logging.error(f\"FileNotFoundError: {e}\")\n",
        "        print(\"An error occurred while opening the file. Check the log for details.\")\n",
        "\n",
        "    except Exception as e:\n",
        "        # Log any other exception to the log file\n",
        "        logging.error(f\"An unexpected error occurred: {e}\")\n",
        "        print(\"An unexpected error occurred. Check the log for details.\")\n",
        "\n",
        "# Call the function to perform file operations\n",
        "handle_file_operations()\n"
      ],
      "metadata": {
        "colab": {
          "base_uri": "https://localhost:8080/"
        },
        "id": "sxxzYs2Hp1r_",
        "outputId": "3832568e-257a-4407-a5c6-895e82691934"
      },
      "execution_count": 36,
      "outputs": [
        {
          "output_type": "stream",
          "name": "stderr",
          "text": [
            "ERROR:root:FileNotFoundError: [Errno 2] No such file or directory: 'non_existent_file.txt'\n"
          ]
        },
        {
          "output_type": "stream",
          "name": "stdout",
          "text": [
            "An error occurred while opening the file. Check the log for details.\n"
          ]
        }
      ]
    }
  ]
}